{
 "cells": [
  {
   "cell_type": "markdown",
   "metadata": {},
   "source": [
    "<!-- PELICAN_BEGIN_SUMMARY -->\n",
    "\n",
    "Using only 1 factor (Vegas line), we will try to calculate the probability associated with a college football team winning the game using Python and StatsModels. The Vegas Line provides a model with minimal bias, and a very good use case to show Logistic Regression in Practice.\n",
    "\n",
    "<!-- PELICAN_END_SUMMARY -->"
   ]
  },
  {
   "cell_type": "code",
   "execution_count": 1,
   "metadata": {
    "collapsed": true
   },
   "outputs": [],
   "source": [
    "import pandas as pd\n",
    "import numpy as np\n",
    "import matplotlib.pyplot as plt\n",
    "import seaborn as sns\n",
    "import statsmodels.api as sm\n",
    "%matplotlib inline"
   ]
  },
  {
   "cell_type": "markdown",
   "metadata": {},
   "source": [
    "We will start by loading the games from 2007-2016"
   ]
  },
  {
   "cell_type": "code",
   "execution_count": 2,
   "metadata": {},
   "outputs": [
    {
     "data": {
      "text/html": [
       "<div>\n",
       "<table border=\"1\" class=\"dataframe\">\n",
       "  <thead>\n",
       "    <tr style=\"text-align: right;\">\n",
       "      <th></th>\n",
       "      <th>Home</th>\n",
       "      <th>Road</th>\n",
       "      <th>line</th>\n",
       "      <th>hscore</th>\n",
       "      <th>vscore</th>\n",
       "    </tr>\n",
       "  </thead>\n",
       "  <tbody>\n",
       "    <tr>\n",
       "      <th>0</th>\n",
       "      <td>Arizona</td>\n",
       "      <td>Idaho</td>\n",
       "      <td>27.0</td>\n",
       "      <td>70.0</td>\n",
       "      <td>0.0</td>\n",
       "    </tr>\n",
       "    <tr>\n",
       "      <th>1</th>\n",
       "      <td>Army</td>\n",
       "      <td>Temple</td>\n",
       "      <td>-7.5</td>\n",
       "      <td>7.0</td>\n",
       "      <td>35.0</td>\n",
       "    </tr>\n",
       "    <tr>\n",
       "      <th>2</th>\n",
       "      <td>Auburn</td>\n",
       "      <td>Louisiana-Monroe</td>\n",
       "      <td>26.0</td>\n",
       "      <td>34.0</td>\n",
       "      <td>0.0</td>\n",
       "    </tr>\n",
       "    <tr>\n",
       "      <th>3</th>\n",
       "      <td>Baylor</td>\n",
       "      <td>Wake Forest</td>\n",
       "      <td>-11.5</td>\n",
       "      <td>13.0</td>\n",
       "      <td>41.0</td>\n",
       "    </tr>\n",
       "    <tr>\n",
       "      <th>4</th>\n",
       "      <td>Buffalo</td>\n",
       "      <td>UTEP</td>\n",
       "      <td>3.0</td>\n",
       "      <td>42.0</td>\n",
       "      <td>17.0</td>\n",
       "    </tr>\n",
       "  </tbody>\n",
       "</table>\n",
       "</div>"
      ],
      "text/plain": [
       "      Home              Road  line  hscore  vscore\n",
       "0  Arizona             Idaho  27.0    70.0     0.0\n",
       "1     Army            Temple  -7.5     7.0    35.0\n",
       "2   Auburn  Louisiana-Monroe  26.0    34.0     0.0\n",
       "3   Baylor       Wake Forest -11.5    13.0    41.0\n",
       "4  Buffalo              UTEP   3.0    42.0    17.0"
      ]
     },
     "execution_count": 2,
     "metadata": {},
     "output_type": "execute_result"
    }
   ],
   "source": [
    "ncaa_games = pd.read_csv('./data/ncaa2007-2016.csv')\n",
    "ncaa_games[['Home', 'Road', 'line', 'hscore', 'vscore']].head()"
   ]
  },
  {
   "cell_type": "code",
   "execution_count": 3,
   "metadata": {},
   "outputs": [
    {
     "data": {
      "image/png": "[encoded data removed]",
      "text/plain": [
       "<matplotlib.figure.Figure at 0x111ed2b00>"
      ]
     },
     "metadata": {},
     "output_type": "display_data"
    },
    {
     "name": "stdout",
     "output_type": "stream",
     "text": [
      "Mean: -0.45\n",
      "Standard Deviation: 15.57\n"
     ]
    }
   ],
   "source": [
    "ncaa_games['spread_diff'] = ncaa_games.score_diff - ncaa_games.line\n",
    "plt.hist(ncaa_games.spread_diff, bins=40)\n",
    "plt.title('Difference between Line and Final Score')\n",
    "plt.xlim([-60, 60])\n",
    "plt.tight_layout()\n",
    "plt.show()\n",
    "print('Mean: %.2f' % \n",
    "      np.mean(ncaa_games.score_diff-ncaa_games.line))\n",
    "print('Standard Deviation: %.2f' % \n",
    "      np.std(ncaa_games.score_diff-ncaa_games.line, ddof=1))"
   ]
  },
  {
   "cell_type": "markdown",
   "metadata": {},
   "source": [
    "There doesn't seem to be much bias, but there seems to be a decent amount of variation. Here is a look at the games where the spread and the actual score difference was not very close:"
   ]
  },
  {
   "cell_type": "code",
   "execution_count": 4,
   "metadata": {},
   "outputs": [
    {
     "data": {
      "text/html": [
       "<div>\n",
       "<table border=\"1\" class=\"dataframe\">\n",
       "  <thead>\n",
       "    <tr style=\"text-align: right;\">\n",
       "      <th></th>\n",
       "      <th>Home</th>\n",
       "      <th>Road</th>\n",
       "      <th>line</th>\n",
       "      <th>hscore</th>\n",
       "      <th>vscore</th>\n",
       "    </tr>\n",
       "  </thead>\n",
       "  <tbody>\n",
       "    <tr>\n",
       "      <th>88</th>\n",
       "      <td>BYU</td>\n",
       "      <td>UCLA</td>\n",
       "      <td>8.5</td>\n",
       "      <td>59.0</td>\n",
       "      <td>0.0</td>\n",
       "    </tr>\n",
       "    <tr>\n",
       "      <th>260</th>\n",
       "      <td>Tulane</td>\n",
       "      <td>Army</td>\n",
       "      <td>20.0</td>\n",
       "      <td>13.0</td>\n",
       "      <td>44.0</td>\n",
       "    </tr>\n",
       "    <tr>\n",
       "      <th>1027</th>\n",
       "      <td>Kansas St.</td>\n",
       "      <td>Texas A&amp;M</td>\n",
       "      <td>-5.0</td>\n",
       "      <td>62.0</td>\n",
       "      <td>14.0</td>\n",
       "    </tr>\n",
       "    <tr>\n",
       "      <th>2276</th>\n",
       "      <td>UAB</td>\n",
       "      <td>Tulane</td>\n",
       "      <td>13.0</td>\n",
       "      <td>10.0</td>\n",
       "      <td>49.0</td>\n",
       "    </tr>\n",
       "    <tr>\n",
       "      <th>2879</th>\n",
       "      <td>Houston</td>\n",
       "      <td>Texas St.</td>\n",
       "      <td>36.0</td>\n",
       "      <td>13.0</td>\n",
       "      <td>30.0</td>\n",
       "    </tr>\n",
       "    <tr>\n",
       "      <th>3366</th>\n",
       "      <td>UCLA</td>\n",
       "      <td>Arizona</td>\n",
       "      <td>3.0</td>\n",
       "      <td>66.0</td>\n",
       "      <td>10.0</td>\n",
       "    </tr>\n",
       "    <tr>\n",
       "      <th>5046</th>\n",
       "      <td>Ohio St.</td>\n",
       "      <td>Wisconsin</td>\n",
       "      <td>-4.5</td>\n",
       "      <td>59.0</td>\n",
       "      <td>0.0</td>\n",
       "    </tr>\n",
       "    <tr>\n",
       "      <th>5265</th>\n",
       "      <td>Oregon</td>\n",
       "      <td>Utah</td>\n",
       "      <td>12.5</td>\n",
       "      <td>20.0</td>\n",
       "      <td>62.0</td>\n",
       "    </tr>\n",
       "    <tr>\n",
       "      <th>5417</th>\n",
       "      <td>Kansas St.</td>\n",
       "      <td>Oklahoma</td>\n",
       "      <td>-4.5</td>\n",
       "      <td>0.0</td>\n",
       "      <td>55.0</td>\n",
       "    </tr>\n",
       "    <tr>\n",
       "      <th>5479</th>\n",
       "      <td>Miami (Fla.)</td>\n",
       "      <td>Clemson</td>\n",
       "      <td>-7.5</td>\n",
       "      <td>0.0</td>\n",
       "      <td>58.0</td>\n",
       "    </tr>\n",
       "    <tr>\n",
       "      <th>5972</th>\n",
       "      <td>Memphis</td>\n",
       "      <td>Bowling Green</td>\n",
       "      <td>17.0</td>\n",
       "      <td>77.0</td>\n",
       "      <td>3.0</td>\n",
       "    </tr>\n",
       "    <tr>\n",
       "      <th>6418</th>\n",
       "      <td>Iowa St.</td>\n",
       "      <td>Texas Tech</td>\n",
       "      <td>-3.5</td>\n",
       "      <td>66.0</td>\n",
       "      <td>10.0</td>\n",
       "    </tr>\n",
       "  </tbody>\n",
       "</table>\n",
       "</div>"
      ],
      "text/plain": [
       "              Home           Road  line  hscore  vscore\n",
       "88             BYU           UCLA   8.5    59.0     0.0\n",
       "260         Tulane           Army  20.0    13.0    44.0\n",
       "1027    Kansas St.      Texas A&M  -5.0    62.0    14.0\n",
       "2276           UAB         Tulane  13.0    10.0    49.0\n",
       "2879       Houston      Texas St.  36.0    13.0    30.0\n",
       "3366          UCLA        Arizona   3.0    66.0    10.0\n",
       "5046      Ohio St.      Wisconsin  -4.5    59.0     0.0\n",
       "5265        Oregon           Utah  12.5    20.0    62.0\n",
       "5417    Kansas St.       Oklahoma  -4.5     0.0    55.0\n",
       "5479  Miami (Fla.)        Clemson  -7.5     0.0    58.0\n",
       "5972       Memphis  Bowling Green  17.0    77.0     3.0\n",
       "6418      Iowa St.     Texas Tech  -3.5    66.0    10.0"
      ]
     },
     "execution_count": 4,
     "metadata": {},
     "output_type": "execute_result"
    }
   ],
   "source": [
    "ncaa_games[abs(ncaa_games.spread_diff)>50][\n",
    "    ['Home',\n",
    "     'Road',\n",
    "     'line',\n",
    "     'hscore',\n",
    "     'vscore']]"
   ]
  },
  {
   "cell_type": "code",
   "execution_count": 5,
   "metadata": {},
   "outputs": [
    {
     "data": {
      "image/png": "[encoded data removed]",
      "text/plain": [
       "<matplotlib.figure.Figure at 0x1154c5518>"
      ]
     },
     "metadata": {},
     "output_type": "display_data"
    }
   ],
   "source": [
    "by_line = ncaa_games[['Home_Win', 'line']].groupby(\n",
    "    ['line']).agg(['mean', 'count'])['Home_Win']\n",
    "plt.scatter(x=by_line.index, \n",
    "            y = by_line['mean'], \n",
    "            s = by_line['count']*2, \n",
    "            alpha = .2)\n",
    "plt.xlim([-45, 45])\n",
    "plt.ylim([-.03, 1.03])\n",
    "plt.xlabel('Spread')\n",
    "plt.ylabel('Probability of Win')\n",
    "plt.tight_layout()\n",
    "plt.show()"
   ]
  },
  {
   "cell_type": "markdown",
   "metadata": {},
   "source": [
    "# Looks very similar to the logistic function"
   ]
  },
  {
   "cell_type": "code",
   "execution_count": 6,
   "metadata": {},
   "outputs": [
    {
     "data": {
      "image/png": "[encoded data removed]",
      "text/plain": [
       "<matplotlib.figure.Figure at 0x111fa6588>"
      ]
     },
     "metadata": {},
     "output_type": "display_data"
    }
   ],
   "source": [
    "def logistic_function(x):\n",
    "    return 1/(1+np.exp(-x))\n",
    "\n",
    "x=np.linspace(-6,6)\n",
    "y=logistic_function(x)\n",
    "\n",
    "plt.plot(x,y)\n",
    "plt.title('Logistic Function')\n",
    "plt.tight_layout()\n",
    "plt.show()"
   ]
  },
  {
   "cell_type": "code",
   "execution_count": 7,
   "metadata": {
    "collapsed": true
   },
   "outputs": [],
   "source": [
    "X= pd.DataFrame(data={'intercept': 1, 'line': ncaa_games['line']})\n",
    "y= ncaa_games.Home_Win"
   ]
  },
  {
   "cell_type": "code",
   "execution_count": 8,
   "metadata": {},
   "outputs": [
    {
     "name": "stdout",
     "output_type": "stream",
     "text": [
      "Optimization terminated successfully.\n",
      "         Current function value: 0.491849\n",
      "         Iterations 6\n"
     ]
    }
   ],
   "source": [
    "logit_model = sm.Logit(y, X)\n",
    "result = logit_model.fit()"
   ]
  },
  {
   "cell_type": "code",
   "execution_count": 9,
   "metadata": {},
   "outputs": [
    {
     "data": {
      "text/html": [
       "<table class=\"simpletable\">\n",
       "<caption>Logit Regression Results</caption>\n",
       "<tr>\n",
       "  <th>Dep. Variable:</th>     <td>Home_Win</td>     <th>  No. Observations:  </th>  <td>  6568</td> \n",
       "</tr>\n",
       "<tr>\n",
       "  <th>Model:</th>               <td>Logit</td>      <th>  Df Residuals:      </th>  <td>  6566</td> \n",
       "</tr>\n",
       "<tr>\n",
       "  <th>Method:</th>               <td>MLE</td>       <th>  Df Model:          </th>  <td>     1</td> \n",
       "</tr>\n",
       "<tr>\n",
       "  <th>Date:</th>          <td>Mon, 08 May 2017</td> <th>  Pseudo R-squ.:     </th>  <td>0.2770</td> \n",
       "</tr>\n",
       "<tr>\n",
       "  <th>Time:</th>              <td>15:37:05</td>     <th>  Log-Likelihood:    </th> <td> -3230.5</td>\n",
       "</tr>\n",
       "<tr>\n",
       "  <th>converged:</th>           <td>True</td>       <th>  LL-Null:           </th> <td> -4468.3</td>\n",
       "</tr>\n",
       "<tr>\n",
       "  <th> </th>                      <td> </td>        <th>  LLR p-value:       </th>  <td> 0.000</td> \n",
       "</tr>\n",
       "</table>\n",
       "<table class=\"simpletable\">\n",
       "<tr>\n",
       "      <td></td>         <th>coef</th>     <th>std err</th>      <th>z</th>      <th>P>|z|</th>  <th>[0.025</th>    <th>0.975]</th>  \n",
       "</tr>\n",
       "<tr>\n",
       "  <th>intercept</th> <td>   -0.1212</td> <td>    0.032</td> <td>   -3.808</td> <td> 0.000</td> <td>   -0.184</td> <td>   -0.059</td>\n",
       "</tr>\n",
       "<tr>\n",
       "  <th>line</th>      <td>    0.1259</td> <td>    0.003</td> <td>   37.485</td> <td> 0.000</td> <td>    0.119</td> <td>    0.132</td>\n",
       "</tr>\n",
       "</table>"
      ],
      "text/plain": [
       "<class 'statsmodels.iolib.summary.Summary'>\n",
       "\"\"\"\n",
       "                           Logit Regression Results                           \n",
       "==============================================================================\n",
       "Dep. Variable:               Home_Win   No. Observations:                 6568\n",
       "Model:                          Logit   Df Residuals:                     6566\n",
       "Method:                           MLE   Df Model:                            1\n",
       "Date:                Mon, 08 May 2017   Pseudo R-squ.:                  0.2770\n",
       "Time:                        15:37:05   Log-Likelihood:                -3230.5\n",
       "converged:                       True   LL-Null:                       -4468.3\n",
       "                                        LLR p-value:                     0.000\n",
       "==============================================================================\n",
       "                 coef    std err          z      P>|z|      [0.025      0.975]\n",
       "------------------------------------------------------------------------------\n",
       "intercept     -0.1212      0.032     -3.808      0.000      -0.184      -0.059\n",
       "line           0.1259      0.003     37.485      0.000       0.119       0.132\n",
       "==============================================================================\n",
       "\"\"\""
      ]
     },
     "execution_count": 9,
     "metadata": {},
     "output_type": "execute_result"
    }
   ],
   "source": [
    "result.summary()"
   ]
  },
  {
   "cell_type": "code",
   "execution_count": 10,
   "metadata": {},
   "outputs": [
    {
     "data": {
      "image/png": "[encoded data removed]",
      "text/plain": [
       "<matplotlib.figure.Figure at 0x1158b3240>"
      ]
     },
     "metadata": {},
     "output_type": "display_data"
    }
   ],
   "source": [
    "pred_x =pd.DataFrame(data=\n",
    "                     {'intercept': 1, \n",
    "                      'line': np.linspace(X.line.min(),\n",
    "                                          X.line.max(), \n",
    "                                          100)})\n",
    "pred_y = result.predict(pred_x)\n",
    "plt.scatter(x=by_line.index, \n",
    "            y = by_line['mean'], \n",
    "            s = by_line['count']*2, \n",
    "            alpha = .2)\n",
    "plt.xlim([-45, 45])\n",
    "plt.ylim([-.03, 1.03])\n",
    "plt.xlabel('Spread')\n",
    "plt.ylabel('Probability of Win')\n",
    "plt.plot(pred_x.line, pred_y)\n",
    "plt.tight_layout()\n",
    "plt.show()"
   ]
  },
  {
   "cell_type": "code",
   "execution_count": 11,
   "metadata": {},
   "outputs": [
    {
     "name": "stdout",
     "output_type": "stream",
     "text": [
      "Win Probability when team is favored by 6 points:\n",
      "0.65\n"
     ]
    }
   ],
   "source": [
    "def compute_win_proba(spread, model):\n",
    "    return model.predict([1,spread])[0]\n",
    "\n",
    "print('Win Probability when team is favored by 6 points:\\n%.2f' % \n",
    "      compute_win_proba(6, result))"
   ]
  }
 ],
 "metadata": {
  "kernelspec": {
   "display_name": "Python 3",
   "language": "python",
   "name": "python3"
  },
  "language_info": {
   "codemirror_mode": {
    "name": "ipython",
    "version": 3
   },
   "file_extension": ".py",
   "mimetype": "text/x-python",
   "name": "python",
   "nbconvert_exporter": "python",
   "pygments_lexer": "ipython3",
   "version": "3.6.1"
  }
 },
 "nbformat": 4,
 "nbformat_minor": 2
}
