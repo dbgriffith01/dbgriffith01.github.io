{
 "cells": [
  {
   "cell_type": "markdown",
   "metadata": {},
   "source": [
    "<!-- PELICAN_BEGIN_SUMMARY -->\n",
    "\n",
    "I wanted to go over a simple example for implementing gradient descent. Gradient descent is used often in neural networks, logistic regression and may other models.  In linear regression, we have a closed form solution to calculate the coefficents for a model.  The closed form solution to calculate the coefficents is:\n",
    "\n",
    "$$\\hat{\\beta} = (X^TX)^{-1}X^Ty$$\n",
    "\n",
    "To understand the power of gradient descent we will not use the closed form solution, but rather go through calculating the coeffiecients of the model with gradient descent.\n",
    "\n",
    "<!-- PELICAN_END_SUMMARY -->"
   ]
  },
  {
   "cell_type": "code",
   "execution_count": 1,
   "metadata": {
    "collapsed": true
   },
   "outputs": [],
   "source": [
    "import matplotlib.pyplot as plt\n",
    "import pandas as pd\n",
    "import numpy as np\n",
    "import seaborn as sns\n",
    "%matplotlib inline\n",
    "from pylab import rcParams\n",
    "rcParams['figure.figsize'] = 10, 5"
   ]
  },
  {
   "cell_type": "markdown",
   "metadata": {},
   "source": [
    "We will use a simple linear regression model to show the concepts.\n",
    "\n",
    "$$y = 2+3x$$"
   ]
  },
  {
   "cell_type": "code",
   "execution_count": 2,
   "metadata": {},
   "outputs": [
    {
     "data": {
      "image/png": "[encoded data removed]",
      "text/plain": [
       "<matplotlib.figure.Figure at 0x10ece1320>"
      ]
     },
     "metadata": {},
     "output_type": "display_data"
    }
   ],
   "source": [
    "x = np.array([0,1,2,3])\n",
    "y = 2.0 + 3.0*x\n",
    "plt.scatter(x,y)\n",
    "plt.xlabel('x')\n",
    "plt.ylabel('y')\n",
    "plt.show()"
   ]
  },
  {
   "cell_type": "markdown",
   "metadata": {},
   "source": [
    "Since we have two parameters that we are estimating, the constant and the coefficent for *x*, we will add a column of ones to the design matrix (X) so we can estimate both parameters."
   ]
  },
  {
   "cell_type": "code",
   "execution_count": 3,
   "metadata": {
    "collapsed": true
   },
   "outputs": [],
   "source": [
    "# add intercept to x\n",
    "X = np.column_stack((np.ones(x.shape[0]), x))"
   ]
  },
  {
   "cell_type": "markdown",
   "metadata": {},
   "source": [
    "I'll now add a couple of functions that we can use to make plotting the graph and predicting the responses much easier.\n",
    "\n",
    "Multipying X by the coeffiecients will allow us to calculate the predictions values"
   ]
  },
  {
   "cell_type": "code",
   "execution_count": 4,
   "metadata": {
    "collapsed": true
   },
   "outputs": [],
   "source": [
    "def predict(X, thetas):\n",
    "    \"\"\"\n",
    "    Predict response bases on X values and coeffients\n",
    "    \"\"\"\n",
    "    return X.dot(thetas)"
   ]
  },
  {
   "cell_type": "markdown",
   "metadata": {},
   "source": [
    "Let's check to see if the predict method works using coefficents of 0 for the constant and 0 for the slope.  Using these coefficients we would expect the model to look as follow: $y=0+0x$ and therefore predicting zeros for all values of x."
   ]
  },
  {
   "cell_type": "code",
   "execution_count": 5,
   "metadata": {},
   "outputs": [
    {
     "data": {
      "text/plain": [
       "array([ 0.,  0.,  0.,  0.])"
      ]
     },
     "execution_count": 5,
     "metadata": {},
     "output_type": "execute_result"
    }
   ],
   "source": [
    "coefs = [0,0]\n",
    "predict(X, coefs)"
   ]
  },
  {
   "cell_type": "markdown",
   "metadata": {},
   "source": [
    "That works.  Now let's setup a function so we can plot the data as we are checking our predictions."
   ]
  },
  {
   "cell_type": "code",
   "execution_count": 6,
   "metadata": {
    "collapsed": true
   },
   "outputs": [],
   "source": [
    "def fitted_line_plot(X, y, thetas):\n",
    "    plt.scatter(X[:,1], y, s=40)\n",
    "    plt.xlabel('x')\n",
    "    plt.ylabel('y')\n",
    "    plt.title('Fitted Line Plot')\n",
    "    pred_y = predict(X, thetas)\n",
    "    plt.plot(X[:,1], pred_y, c='green', lw = 2)\n",
    "    return plt"
   ]
  },
  {
   "cell_type": "code",
   "execution_count": 7,
   "metadata": {},
   "outputs": [
    {
     "data": {
      "image/png": "[encoded data removed]",
      "text/plain": [
       "<matplotlib.figure.Figure at 0x11200e1d0>"
      ]
     },
     "metadata": {},
     "output_type": "display_data"
    }
   ],
   "source": [
    "fitted_line_plot(X, y, coefs).show()"
   ]
  },
  {
   "cell_type": "markdown",
   "metadata": {},
   "source": [
    "If you notice the green line at the bottom of the graph, you can see that for all values of x we are predicting a y value of 0.\n",
    "\n",
    "Now that we have our base functions setup, let's turn this into an optimization problem."
   ]
  },
  {
   "cell_type": "markdown",
   "metadata": {},
   "source": [
    "# Finding the Optimal Coeffiecients"
   ]
  },
  {
   "cell_type": "markdown",
   "metadata": {},
   "source": [
    "With any optimization problem we need to start with a very simple question: What are we optimizing?\n",
    "\n",
    "In this case, the goal is for our predicted values to be as close to the actual results as possible. There are a number of optimization techniques that will accomplish this goal, but we will use the Mean Square Error (sometimes referred to in the abbreviated form as MSE).\n",
    "\n",
    "Here is the calculation for MSE:\n",
    "\n",
    "$$MSE = \\frac{\\sum_{i=1}^n(\\hat{y} - y)^2}{n}$$\n",
    "\n",
    "where:\n",
    "\n",
    "$$\\hat{y} = \\text{predicted values}$$\n",
    "\n",
    "$$n = \\text{number of rows}$$\n",
    "___\n",
    "\n",
    "In short:\n",
    "\n",
    "The objective of our optimization is to minimize MSE."
   ]
  },
  {
   "cell_type": "code",
   "execution_count": 8,
   "metadata": {
    "collapsed": true
   },
   "outputs": [],
   "source": [
    "def mean_square_error(y, predictions):\n",
    "    \"\"\"\n",
    "    Computes the mean square error which is the mean of the sum of squared errors\n",
    "    \"\"\"\n",
    "    errors = predictions - y\n",
    "    sse = np.sum(errors**2)\n",
    "    mse = np.mean(sse)\n",
    "    return mse"
   ]
  },
  {
   "cell_type": "code",
   "execution_count": 9,
   "metadata": {},
   "outputs": [
    {
     "data": {
      "text/plain": [
       "214.0"
      ]
     },
     "execution_count": 9,
     "metadata": {},
     "output_type": "execute_result"
    }
   ],
   "source": [
    "mean_square_error(y, predict(X, coefs))"
   ]
  },
  {
   "cell_type": "markdown",
   "metadata": {},
   "source": [
    "We can now compute the gradient which multiplies X by the residuals where the residuals are equal to $\\hat{y}-y$."
   ]
  },
  {
   "cell_type": "code",
   "execution_count": 10,
   "metadata": {
    "collapsed": true
   },
   "outputs": [],
   "source": [
    "def compute_gradient(X, y, thetas):\n",
    "    predictions = predict(X, thetas)\n",
    "    errors = predictions - y\n",
    "    gradient = np.dot(X.transpose(), errors)\n",
    "    return gradient"
   ]
  },
  {
   "cell_type": "code",
   "execution_count": 11,
   "metadata": {},
   "outputs": [
    {
     "data": {
      "text/plain": [
       "array([-26., -54.])"
      ]
     },
     "execution_count": 11,
     "metadata": {},
     "output_type": "execute_result"
    }
   ],
   "source": [
    "compute_gradient(X,y, coefs)"
   ]
  },
  {
   "cell_type": "markdown",
   "metadata": {},
   "source": [
    "These values tell us that we are underestimating our coefficients.  We can now continuously update the coefficients for a certain number of runs.  We also will use a learning rate that decreases the size of steps we take to improve optimization.  The learning rate should be less than 1 and greater than 0.  A larger learning rate can often lead to continuously jumping past the optimum, where a smaller learning rate will take longer to reach the optimum.\n",
    "\n",
    "# Gradient Descent Implementation\n",
    "\n",
    "In this section, I will declare the number of runs to optimize the coefficients as well as set a learning rate to obtain the coefficients"
   ]
  },
  {
   "cell_type": "code",
   "execution_count": 12,
   "metadata": {},
   "outputs": [
    {
     "data": {
      "image/png": "[encoded data removed]",
      "text/plain": [
       "<matplotlib.figure.Figure at 0x1121dbdd8>"
      ]
     },
     "metadata": {},
     "output_type": "display_data"
    },
    {
     "data": {
      "image/png": "[encoded data removed]",
      "text/plain": [
       "<matplotlib.figure.Figure at 0x112247128>"
      ]
     },
     "metadata": {},
     "output_type": "display_data"
    }
   ],
   "source": [
    "learning_rate = .01\n",
    "\n",
    "costs = []\n",
    "for _ in np.arange(10):\n",
    "    coefs = coefs - learning_rate*compute_gradient(X, y, coefs)\n",
    "    costs.append(mean_square_error(y, predict(X, coefs)))\n",
    "\n",
    "fitted_line_plot(X, y, coefs).show()\n",
    "plt.plot(costs)\n",
    "plt.xlabel('Iterations')\n",
    "plt.ylabel('Mean Square Error')\n",
    "plt.title('Learning Rate')\n",
    "plt.show()"
   ]
  },
  {
   "cell_type": "markdown",
   "metadata": {},
   "source": [
    "As we can see, by running gradient descent just 10 times, we are moving close to the optimal solution.  We will need to increase the number of runs, and we should be able to find the optimal solution.\n",
    "\n",
    "I will start by writing a gradient descent function, that will initialize the coefficients to 0, and then continually update the coefficients for 1500 runs."
   ]
  },
  {
   "cell_type": "code",
   "execution_count": 13,
   "metadata": {
    "collapsed": true
   },
   "outputs": [],
   "source": [
    "def gradient_descent(X, y, thetas = None, lr = .01, iters = 1500):\n",
    "    m = X.shape[0]\n",
    "    if thetas is None:\n",
    "        thetas = np.zeros((X.ndim))\n",
    "    xTrans = X.transpose()\n",
    "    for i in np.arange(iters):\n",
    "        hypothesis = np.dot(X, thetas)\n",
    "        loss = hypothesis - y\n",
    "        gradient = np.dot(xTrans, loss) / m\n",
    "        thetas = thetas - lr * gradient\n",
    "    return thetas"
   ]
  },
  {
   "cell_type": "code",
   "execution_count": 14,
   "metadata": {},
   "outputs": [
    {
     "data": {
      "image/png": "[encoded data removed]",
      "text/plain": [
       "<matplotlib.figure.Figure at 0x11205b828>"
      ]
     },
     "metadata": {},
     "output_type": "display_data"
    }
   ],
   "source": [
    "coefs = gradient_descent(X, y)\n",
    "fitted_line_plot(X, y, coefs).show()"
   ]
  },
  {
   "cell_type": "markdown",
   "metadata": {},
   "source": [
    "Not too shabby!"
   ]
  }
 ],
 "metadata": {
  "kernelspec": {
   "display_name": "Python 3",
   "language": "python",
   "name": "python3"
  },
  "language_info": {
   "codemirror_mode": {
    "name": "ipython",
    "version": 3
   },
   "file_extension": ".py",
   "mimetype": "text/x-python",
   "name": "python",
   "nbconvert_exporter": "python",
   "pygments_lexer": "ipython3",
   "version": "3.6.1"
  }
 },
 "nbformat": 4,
 "nbformat_minor": 2
}
